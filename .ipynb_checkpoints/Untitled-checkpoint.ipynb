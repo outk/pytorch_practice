{
 "cells": [
  {
   "cell_type": "code",
   "execution_count": 1,
   "metadata": {},
   "outputs": [],
   "source": [
    "import torch\n",
    "import time"
   ]
  },
  {
   "cell_type": "code",
   "execution_count": 2,
   "metadata": {
    "tags": []
   },
   "outputs": [
    {
     "name": "stdout",
     "output_type": "stream",
     "text": [
      "tensor([100000.,    200.], device='cuda:0')\n",
      "tensor([[11000., 11000., 11000.,  ..., 11000., 11000., 11000.],\n",
      "        [11000., 11000., 11000.,  ..., 11000., 11000., 11000.],\n",
      "        [11000., 11000., 11000.,  ..., 11000., 11000., 11000.],\n",
      "        ...,\n",
      "        [11000., 11000., 11000.,  ..., 11000., 11000., 11000.],\n",
      "        [11000., 11000., 11000.,  ..., 11000., 11000., 11000.],\n",
      "        [11000., 11000., 11000.,  ..., 11000., 11000., 11000.]],\n",
      "       device='cuda:0', dtype=torch.float64)\n",
      "tensor([[1.0000e+10, 1.0000e+10, 1.0000e+10,  ..., 1.0000e+10, 1.0000e+10,\n",
      "         1.0000e+10],\n",
      "        [1.0000e+10, 1.0000e+10, 1.0000e+10,  ..., 1.0000e+10, 1.0000e+10,\n",
      "         1.0000e+10],\n",
      "        [1.0000e+10, 1.0000e+10, 1.0000e+10,  ..., 1.0000e+10, 1.0000e+10,\n",
      "         1.0000e+10],\n",
      "        ...,\n",
      "        [1.0000e+10, 1.0000e+10, 1.0000e+10,  ..., 1.0000e+10, 1.0000e+10,\n",
      "         1.0000e+10],\n",
      "        [1.0000e+10, 1.0000e+10, 1.0000e+10,  ..., 1.0000e+10, 1.0000e+10,\n",
      "         1.0000e+10],\n",
      "        [1.0000e+10, 1.0000e+10, 1.0000e+10,  ..., 1.0000e+10, 1.0000e+10,\n",
      "         1.0000e+10]], device='cuda:0', dtype=torch.float64)\n"
     ]
    }
   ],
   "source": [
    "cuda = torch.device('cuda')\n",
    "\n",
    "x = torch.tensor([100000., 200.], device=cuda)\n",
    "y = torch.full((1000, 1000), 10000, dtype=torch.double, device=cuda)\n",
    "z = torch.full((1000, 1000), 1000, dtype=torch.double, device=cuda)\n",
    "w = torch.full([1000], 1000, dtype=torch.double, device=cuda)\n",
    "print(x)\n",
    "ans = y + z\n",
    "print(ans)\n",
    "dot = torch.mm(y, z)\n",
    "print(dot)\n"
   ]
  },
  {
   "cell_type": "code",
   "execution_count": 3,
   "metadata": {
    "tags": []
   },
   "outputs": [
    {
     "name": "stdout",
     "output_type": "stream",
     "text": [
      "tensor([[100., 100.],\n",
      "        [200., 200.]], device='cuda:0')\n",
      "tensor([[300., 300.],\n",
      "        [400., 400.]], device='cuda:0')\n",
      "tensor([[ 70000.,  70000.],\n",
      "        [140000., 140000.]], device='cuda:0')\n"
     ]
    }
   ],
   "source": [
    "a = torch.cuda.FloatTensor([[100, 100], [200, 200]])\n",
    "print(a)\n",
    "b = torch.cuda.FloatTensor([[300, 300], [400, 400]])\n",
    "print(b)\n",
    "\n",
    "c = torch.mm(a, b)\n",
    "\n",
    "print(c)"
   ]
  },
  {
   "cell_type": "code",
   "execution_count": 4,
   "metadata": {
    "tags": []
   },
   "outputs": [
    {
     "name": "stdout",
     "output_type": "stream",
     "text": [
      "elapsed_time:0.026329517364501953[sec]\n",
      "tensor([[1.0000e+12, 1.0000e+12, 1.0000e+12,  ..., 1.0000e+12, 1.0000e+12,\n",
      "         1.0000e+12],\n",
      "        [1.0000e+12, 1.0000e+12, 1.0000e+12,  ..., 1.0000e+12, 1.0000e+12,\n",
      "         1.0000e+12],\n",
      "        [1.0000e+12, 1.0000e+12, 1.0000e+12,  ..., 1.0000e+12, 1.0000e+12,\n",
      "         1.0000e+12],\n",
      "        ...,\n",
      "        [1.0000e+12, 1.0000e+12, 1.0000e+12,  ..., 1.0000e+12, 1.0000e+12,\n",
      "         1.0000e+12],\n",
      "        [1.0000e+12, 1.0000e+12, 1.0000e+12,  ..., 1.0000e+12, 1.0000e+12,\n",
      "         1.0000e+12],\n",
      "        [1.0000e+12, 1.0000e+12, 1.0000e+12,  ..., 1.0000e+12, 1.0000e+12,\n",
      "         1.0000e+12]], device='cuda:0', dtype=torch.float64)\n"
     ]
    }
   ],
   "source": [
    "cuda = torch.device('cuda')\n",
    "\n",
    "y = torch.full((10000, 10000), 10000, dtype=torch.double, device=cuda)\n",
    "z = torch.full((10000, 10000), 10000, dtype=torch.double, device=cuda)\n",
    "\n",
    "start = time.time()\n",
    "\n",
    "dot = torch.mm(y, z)\n",
    "\n",
    "elapsed_time = time.time() - start\n",
    "print (\"elapsed_time:{0}\".format(elapsed_time) + \"[sec]\")\n",
    "\n",
    "print(dot)"
   ]
  },
  {
   "cell_type": "code",
   "execution_count": 5,
   "metadata": {
    "tags": []
   },
   "outputs": [
    {
     "name": "stdout",
     "output_type": "stream",
     "text": [
      "elapsed_time:8.939005374908447[sec]\n",
      "tensor([[1.0000e+12, 1.0000e+12, 1.0000e+12,  ..., 1.0000e+12, 1.0000e+12,\n",
      "         1.0000e+12],\n",
      "        [1.0000e+12, 1.0000e+12, 1.0000e+12,  ..., 1.0000e+12, 1.0000e+12,\n",
      "         1.0000e+12],\n",
      "        [1.0000e+12, 1.0000e+12, 1.0000e+12,  ..., 1.0000e+12, 1.0000e+12,\n",
      "         1.0000e+12],\n",
      "        ...,\n",
      "        [1.0000e+12, 1.0000e+12, 1.0000e+12,  ..., 1.0000e+12, 1.0000e+12,\n",
      "         1.0000e+12],\n",
      "        [1.0000e+12, 1.0000e+12, 1.0000e+12,  ..., 1.0000e+12, 1.0000e+12,\n",
      "         1.0000e+12],\n",
      "        [1.0000e+12, 1.0000e+12, 1.0000e+12,  ..., 1.0000e+12, 1.0000e+12,\n",
      "         1.0000e+12]], dtype=torch.float64)\n"
     ]
    }
   ],
   "source": [
    "cuda = torch.device('cuda')\n",
    "\n",
    "y = torch.full((10000, 10000), 10000, dtype=torch.double)\n",
    "z = torch.full((10000, 10000), 10000, dtype=torch.double)\n",
    "\n",
    "start = time.time()\n",
    "\n",
    "dot = torch.mm(y, z)\n",
    "\n",
    "elapsed_time = time.time() - start\n",
    "print (\"elapsed_time:{0}\".format(elapsed_time) + \"[sec]\")\n",
    "\n",
    "print(dot)\n"
   ]
  },
  {
   "cell_type": "code",
   "execution_count": 6,
   "metadata": {},
   "outputs": [],
   "source": [
    "import numpy as np"
   ]
  },
  {
   "cell_type": "code",
   "execution_count": 7,
   "metadata": {},
   "outputs": [
    {
     "name": "stdout",
     "output_type": "stream",
     "text": [
      "elapsed_time:54.70102047920227[sec]\n"
     ]
    }
   ],
   "source": [
    "start = time.time()\n",
    "\n",
    "for i in range(10000):\n",
    "    d1 = np.full((1000, 1000), 1000)\n",
    "    d2 = np.full((1000, 1000), 1000)\n",
    "    dsums = d1 + d2\n",
    "\n",
    "elapsed_time = time.time() - start\n",
    "print (\"elapsed_time:{0}\".format(elapsed_time) + \"[sec]\")"
   ]
  }
 ],
 "metadata": {
  "kernelspec": {
   "display_name": "Python 3",
   "language": "python",
   "name": "python3"
  },
  "language_info": {
   "codemirror_mode": {
    "name": "ipython",
    "version": 3
   },
   "file_extension": ".py",
   "mimetype": "text/x-python",
   "name": "python",
   "nbconvert_exporter": "python",
   "pygments_lexer": "ipython3",
   "version": "3.8.3"
  }
 },
 "nbformat": 4,
 "nbformat_minor": 4
}
